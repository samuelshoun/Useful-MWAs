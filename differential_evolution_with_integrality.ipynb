{
  "nbformat": 4,
  "nbformat_minor": 0,
  "metadata": {
    "colab": {
      "provenance": [],
      "authorship_tag": "ABX9TyMgqj/6KlPLEtbNzrFv4C3L",
      "include_colab_link": true
    },
    "kernelspec": {
      "name": "python3",
      "display_name": "Python 3"
    },
    "language_info": {
      "name": "python"
    }
  },
  "cells": [
    {
      "cell_type": "markdown",
      "metadata": {
        "id": "view-in-github",
        "colab_type": "text"
      },
      "source": [
        "<a href=\"https://colab.research.google.com/github/samuelshoun/Useful-MWAs/blob/main/differential_evolution_with_integrality.ipynb\" target=\"_parent\"><img src=\"https://colab.research.google.com/assets/colab-badge.svg\" alt=\"Open In Colab\"/></a>"
      ]
    },
    {
      "cell_type": "code",
      "execution_count": null,
      "metadata": {
        "id": "JZiX82StZGpV"
      },
      "outputs": [],
      "source": [
        "import numpy as np\n",
        "from scipy.optimize import differential_evolution"
      ]
    },
    {
      "cell_type": "code",
      "source": [
        "# define a data-generating function\n",
        "# in this case, a simple linear function of x\n",
        "\n",
        "def func(x, m, b):\n",
        "    y = m * x + b\n",
        "    return y"
      ],
      "metadata": {
        "id": "Oh050EiQZM-2"
      },
      "execution_count": null,
      "outputs": []
    },
    {
      "cell_type": "code",
      "source": [
        "# define the x space\n",
        "x = np.linspace(0, 1, 100)\n",
        "\n",
        "# calculate the function values\n",
        "m = 2\n",
        "b = 5\n",
        "y = func(x, m, b)"
      ],
      "metadata": {
        "id": "JQNgKQ0rZOaE"
      },
      "execution_count": null,
      "outputs": []
    },
    {
      "cell_type": "code",
      "source": [
        "# define an objective function\n",
        "# CRITICAL NOTE:\n",
        "# The parameters being optimized are sent to the loss function\n",
        "# as a SINGLE ITERABLE ARGUMENT (`args` in this case).\n",
        "\n",
        "def obj(args, x):\n",
        "    \n",
        "    if args[2] == 1:\n",
        "        yhat = func(x, args[0], args[1])     # use the data generating function\n",
        "    else:\n",
        "        yhat = x + 100                       # use some other function\n",
        "\n",
        "    mae = np.sum(abs(yhat - y)) / len(y)\n",
        "    \n",
        "    return mae"
      ],
      "metadata": {
        "id": "jKPmkPcyZPxU"
      },
      "execution_count": null,
      "outputs": []
    },
    {
      "cell_type": "code",
      "source": [
        "# example objective calcs\n",
        "obj([2, 5, 1], x), obj([2, 5, 0], x)"
      ],
      "metadata": {
        "colab": {
          "base_uri": "https://localhost:8080/"
        },
        "id": "R1Jn24fRZSH7",
        "outputId": "f4d16f92-093c-4f60-c712-daf790291fdb"
      },
      "execution_count": null,
      "outputs": [
        {
          "output_type": "execute_result",
          "data": {
            "text/plain": [
              "(0.0, 94.5)"
            ]
          },
          "metadata": {},
          "execution_count": 12
        }
      ]
    },
    {
      "cell_type": "code",
      "source": [
        "# define boundaries for the parameter space\n",
        "bounds = [(-100, 100), (-100, 100), (0, 1)]"
      ],
      "metadata": {
        "id": "qs10AqqRZii8"
      },
      "execution_count": null,
      "outputs": []
    },
    {
      "cell_type": "code",
      "source": [
        "# execute the optimization using differential evolution\n",
        "# CRITICAL NOTE:\n",
        "# for a single argument passed through 'differential_evolution' argument\n",
        "# 'args': `args=(x)` will not work, but `args=(x, )` will work.\n",
        "\n",
        "de = differential_evolution(obj, bounds=bounds, args=(x, ), integrality=[0,0,1])\n",
        "de"
      ],
      "metadata": {
        "colab": {
          "base_uri": "https://localhost:8080/"
        },
        "id": "3yrV3J8yavYO",
        "outputId": "db208cb1-6fea-4b1e-d2a7-81f01304b84f"
      },
      "execution_count": null,
      "outputs": [
        {
          "output_type": "execute_result",
          "data": {
            "text/plain": [
              " message: Optimization terminated successfully.\n",
              " success: True\n",
              "     fun: 5.329070518200751e-15\n",
              "       x: [ 2.000e+00  5.000e+00  1.000e+00]\n",
              "     nit: 139\n",
              "    nfev: 6363"
            ]
          },
          "metadata": {},
          "execution_count": 15
        }
      ]
    },
    {
      "cell_type": "code",
      "source": [
        "# predict using the optimized parameters\n",
        "func(x, de.x[0], de.x[1])"
      ],
      "metadata": {
        "colab": {
          "base_uri": "https://localhost:8080/"
        },
        "id": "qd_78OZna6t-",
        "outputId": "aa031078-c439-4bfc-b968-940ea5cb0007"
      },
      "execution_count": null,
      "outputs": [
        {
          "output_type": "execute_result",
          "data": {
            "text/plain": [
              "array([5.        , 5.02020202, 5.04040404, 5.06060606, 5.08080808,\n",
              "       5.1010101 , 5.12121212, 5.14141414, 5.16161616, 5.18181818,\n",
              "       5.2020202 , 5.22222222, 5.24242424, 5.26262626, 5.28282828,\n",
              "       5.3030303 , 5.32323232, 5.34343434, 5.36363636, 5.38383838,\n",
              "       5.4040404 , 5.42424242, 5.44444444, 5.46464646, 5.48484848,\n",
              "       5.50505051, 5.52525253, 5.54545455, 5.56565657, 5.58585859,\n",
              "       5.60606061, 5.62626263, 5.64646465, 5.66666667, 5.68686869,\n",
              "       5.70707071, 5.72727273, 5.74747475, 5.76767677, 5.78787879,\n",
              "       5.80808081, 5.82828283, 5.84848485, 5.86868687, 5.88888889,\n",
              "       5.90909091, 5.92929293, 5.94949495, 5.96969697, 5.98989899,\n",
              "       6.01010101, 6.03030303, 6.05050505, 6.07070707, 6.09090909,\n",
              "       6.11111111, 6.13131313, 6.15151515, 6.17171717, 6.19191919,\n",
              "       6.21212121, 6.23232323, 6.25252525, 6.27272727, 6.29292929,\n",
              "       6.31313131, 6.33333333, 6.35353535, 6.37373737, 6.39393939,\n",
              "       6.41414141, 6.43434343, 6.45454545, 6.47474747, 6.49494949,\n",
              "       6.51515152, 6.53535354, 6.55555556, 6.57575758, 6.5959596 ,\n",
              "       6.61616162, 6.63636364, 6.65656566, 6.67676768, 6.6969697 ,\n",
              "       6.71717172, 6.73737374, 6.75757576, 6.77777778, 6.7979798 ,\n",
              "       6.81818182, 6.83838384, 6.85858586, 6.87878788, 6.8989899 ,\n",
              "       6.91919192, 6.93939394, 6.95959596, 6.97979798, 7.        ])"
            ]
          },
          "metadata": {},
          "execution_count": 18
        }
      ]
    },
    {
      "cell_type": "code",
      "source": [],
      "metadata": {
        "id": "L3qA0KhZbLSP"
      },
      "execution_count": null,
      "outputs": []
    }
  ]
}